{
 "cells": [
  {
   "cell_type": "code",
   "execution_count": 1,
   "metadata": {},
   "outputs": [
    {
     "name": "stdout",
     "output_type": "stream",
     "text": [
      "오일러상수 근사회수 입력:300\n",
      "오일러 상수값:\n",
      "2.7182818284590455\n",
      "함수 ae^b에서 a값:1\n",
      "함수 ae^b에서 b값:1\n",
      "미분값:\n",
      "2.7182833761685288\n"
     ]
    }
   ],
   "source": [
    "#지수함수 e^x미분\n",
    "\n",
    "#미분의 개념.\n",
    "#한 점에서의 기울기\n",
    "# 이때 f(a+h)-f(a)/(a+h)-a 를 f(a)의  미분값이라함. h가 수렴하는 x에서 h+ h- 는 같아야 함.\n",
    "\n",
    "#f(x)=e^x에 대하여 미분하시오\n",
    "\n",
    "#1.자연상수 e에대하여 정의하여야 함.\n",
    "\n",
    "#2.e에대한 극한식을 테일러 급수로 정리하려면 factorial에대한 정의가 있어야 함.\n",
    "\n",
    "#3.지수함수에대한 일반식 ae^b에대하여 미분하는 함수가 있어야 함\n",
    "\n",
    "#4.e근사화 회수는 사용자가 결정함\n",
    "\n",
    " \n",
    "\n",
    "#따라서 함수로 factorail정의\n",
    "\n",
    "def factorial(a):\n",
    "    b = 1\n",
    "    for i in range(1,a+1):\n",
    "        b *= i\n",
    "    return b\n",
    "\n",
    "#오일러 변환 함수 정의,\n",
    "\n",
    "def Eulser_num(b):\n",
    "    e=1\n",
    "    for j in range(1,b+1):\n",
    "        e += (1/factorial(j))\n",
    "    return e\n",
    "\n",
    "#미분에 대한 정의\n",
    "\n",
    "def differ(a, b): #ae^x로 정의 되는 함수에 대한 미분\n",
    "    y_value = a*(e**b) \n",
    "    yh_value = a*(e**(b+h))  #**은 지수표현\n",
    "    dy = yh_value-y_value \n",
    "    differ_result = dy/h\n",
    "    return differ_result\n",
    "\n",
    "input_val=int(input(\"오일러상수 근사회수 입력:\"))\n",
    "e = Eulser_num(input_val)\n",
    "\n",
    "print(\"오일러 상수값:\")\n",
    "print(e)\n",
    "h=1e-10 #1*10^(-10) #e^3에대하여 미분하려면 미소값 h에대하여 정의하여야함\n",
    "input_val_differa = int(input(\"함수 ae^b에서 a값:\")) \n",
    "input_val_differb = int(input(\"함수 ae^b에서 b값:\"))\n",
    "print(\"미분값:\")\n",
    "print(differ(input_val_differa,input_val_differb))"
   ]
  },
  {
   "cell_type": "markdown",
   "metadata": {},
   "source": [
    "### "
   ]
  },
  {
   "cell_type": "code",
   "execution_count": 4,
   "metadata": {},
   "outputs": [
    {
     "name": "stdout",
     "output_type": "stream",
     "text": [
      "x^3미분결과\n",
      "156.24937500118443\n"
     ]
    }
   ],
   "source": [
    "#적분할때 필요한 parameter \n",
    "\n",
    "# 1. dx값\n",
    "# 2. 적분 구간\n",
    "# 3. 누산회수\n",
    "# 위 parameter 들을 함수에 전달한다.\n",
    "\n",
    "def integral(dx,start,end,loop_num): # 함수parameter는 그밖 변수들과 상관없음 \n",
    "    loop_cnt = 0\n",
    "    domain_x = 0 #변수선언 및 초기화\n",
    "    range_y = 0 #변수선언 및 초기화\n",
    "    area = 0    #적분영역(시그마값) 선언및초기화\n",
    "    while loop_cnt<loop_num:\n",
    "        range_y = domain_x * domain_x * domain_x #x^3\n",
    "        domain_x += dx\n",
    "        area += range_y*dx\n",
    "        loop_cnt +=1\n",
    "    return(area)\n",
    "\n",
    "dx = 1e-5#dx 값이 과도하게 작으면 출력을 짧은시간안에 못한다. \n",
    "start = 0 #구간1\n",
    "end = 5   #구간2\n",
    "loop_num = (end-start)/dx #누산횟수\n",
    "\n",
    "print(\"x^3미분결과\")\n",
    "print(integral(dx,start,end,loop_num))\n",
    "\n",
    "\n"
   ]
  },
  {
   "cell_type": "code",
   "execution_count": 2,
   "metadata": {
    "scrolled": true
   },
   "outputs": [
    {
     "name": "stdout",
     "output_type": "stream",
     "text": [
      "합격\n",
      "합격\n",
      "불합격\n",
      "불합격\n",
      "불합격\n",
      "불합격\n",
      "불합격\n"
     ]
    }
   ],
   "source": [
    "# 아래와 같은 코드가 있다고 가정할때 원하는 바와 같이 출력됨을 확인 할 수 있다.\n",
    "score = (99,88,22,33,44,55,66)\n",
    "\n",
    "for i in score:\n",
    "    if i>70:\n",
    "        print(\"합격\")\n",
    "    else:\n",
    "        print(\"불합격\")"
   ]
  },
  {
   "cell_type": "code",
   "execution_count": 3,
   "metadata": {},
   "outputs": [
    {
     "name": "stdout",
     "output_type": "stream",
     "text": [
      "합격\n",
      "합격\n",
      "불합격\n"
     ]
    }
   ],
   "source": [
    "#하지만 코드가 밑과 같다면 그 결과값은 또 다르다. 이유는 파이썬에서는 c언어와 달리 \n",
    "#중괄호 대신에 :이하 들여쓰기를 통해 블록을 설정하기 때문이다. \n",
    "#따라서 아래 코드의 else문은 For문 밖에서의 Else이며 단순히 불합격이라는 메시지만 띄우게 된다.\n",
    "score = (99,88,22,33,44,55,66)\n",
    "\n",
    "for i in score:\n",
    "    if i>70:\n",
    "        print(\"합격\")\n",
    "else:\n",
    "    print(\"불합격\")\n"
   ]
  },
  {
   "cell_type": "code",
   "execution_count": null,
   "metadata": {},
   "outputs": [],
   "source": []
  }
 ],
 "metadata": {
  "kernelspec": {
   "display_name": "Python 3",
   "language": "python",
   "name": "python3"
  },
  "language_info": {
   "codemirror_mode": {
    "name": "ipython",
    "version": 3
   },
   "file_extension": ".py",
   "mimetype": "text/x-python",
   "name": "python",
   "nbconvert_exporter": "python",
   "pygments_lexer": "ipython3",
   "version": "3.7.6"
  }
 },
 "nbformat": 4,
 "nbformat_minor": 4
}
