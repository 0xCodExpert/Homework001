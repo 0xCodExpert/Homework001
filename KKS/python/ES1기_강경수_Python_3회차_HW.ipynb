{
 "cells": [
  {
   "cell_type": "code",
   "execution_count": 4,
   "metadata": {},
   "outputs": [
    {
     "name": "stdout",
     "output_type": "stream",
     "text": [
      "[2, 4, 6, 8]\n"
     ]
    }
   ],
   "source": [
    "def even_fun(num_list):\n",
    "    for i in range(1,10):\n",
    "        if i%2==0:\n",
    "            num_list.append(i)\n",
    "    \n",
    "num_list=[]\n",
    "even_fun(num_list)\n",
    "print(num_list)"
   ]
  },
  {
   "cell_type": "code",
   "execution_count": 3,
   "metadata": {},
   "outputs": [
    {
     "name": "stdout",
     "output_type": "stream",
     "text": [
      "72\n",
      "[8, 1, 0, 72, 54, 55, 17]\n",
      "[22, 65, 51, 0, 69, 18, 4]\n",
      "[20, 64, 51, 72, 42, 51, 16]\n",
      "16\n"
     ]
    }
   ],
   "source": [
    "import random\n",
    "import math\n",
    "\n",
    "val_x=[] #X값\n",
    "val_y=[] #Y값\n",
    "dis_x=[] #X거리값\n",
    "dis_y=[] #Y거리값\n",
    "distance=[] #점사이간거리값\n",
    "\n",
    "start_x = random.randint(0,100)\n",
    "start_y = random.randint(0,100)\n",
    "\n",
    "for i in range(0,7):\n",
    "    \n",
    "    val_x.append(random.randint(0,100))\n",
    "    val_y.append(random.randint(0,100))\n",
    "    \n",
    "    temp_x = (val_x[i]-start_x)\n",
    "    if temp_x<=0:\n",
    "        temp_x*=(-1)                    #sqrt함수 0이하로 나누면 오류!\n",
    "    dis_x.append(temp_x)\n",
    "    \n",
    "    temp_y = (val_y[i]-start_y)\n",
    "    if temp_y<=0:\n",
    "        temp_y*=(-1)                    #sqrt함수 0이하로 나누면 오류!\n",
    "    dis_y.append(temp_y)\n",
    "    \n",
    "    distance_temp = int(((dis_x[i]**2-dis_y[i]**2)))\n",
    "    if distance_temp <= 0:\n",
    "        distance_temp *= (-1)\n",
    "    distance.append(int(math.sqrt(distance_temp)))\n",
    "    \n",
    "minimum_disatance=min(distance)\n",
    "    \n",
    "print(start_x)\n",
    "print(dis_x)\n",
    "print(dis_y)\n",
    "print(distance)\n",
    "print(minimum_disatance)"
   ]
  },
  {
   "cell_type": "code",
   "execution_count": null,
   "metadata": {},
   "outputs": [],
   "source": [
    "\n"
   ]
  },
  {
   "cell_type": "code",
   "execution_count": null,
   "metadata": {},
   "outputs": [],
   "source": []
  },
  {
   "cell_type": "code",
   "execution_count": null,
   "metadata": {},
   "outputs": [],
   "source": []
  },
  {
   "cell_type": "code",
   "execution_count": null,
   "metadata": {},
   "outputs": [],
   "source": []
  }
 ],
 "metadata": {
  "kernelspec": {
   "display_name": "Python 3",
   "language": "python",
   "name": "python3"
  },
  "language_info": {
   "codemirror_mode": {
    "name": "ipython",
    "version": 3
   },
   "file_extension": ".py",
   "mimetype": "text/x-python",
   "name": "python",
   "nbconvert_exporter": "python",
   "pygments_lexer": "ipython3",
   "version": "3.7.6"
  }
 },
 "nbformat": 4,
 "nbformat_minor": 4
}
