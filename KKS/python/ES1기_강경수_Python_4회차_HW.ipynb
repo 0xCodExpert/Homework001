{
 "cells": [
  {
   "cell_type": "code",
   "execution_count": null,
   "metadata": {},
   "outputs": [],
   "source": [
    "#주사위 놀이 \n",
    "import random\n",
    "\n",
    "cubic_num = random.randint(1,6)\n",
    "\n",
    "user_num = int(input('주사위 수를 입력하세요:'))\n",
    "\n",
    "if user_num>=7 or user_num<=0:\n",
    "    print(\"1~6까지의 숫자를 입력하세요.\")\n",
    "    \n",
    "elif user_num != cubic_num:\n",
    "    print(\"주사위 값은\",cubic_num,\"입니다\")\n",
    "    print(\"당신은 패배하셨습니다!\")\n",
    "    \n",
    "else :\n",
    "    print(\"당신은 승리하셨습니다!\")"
   ]
  },
  {
   "cell_type": "code",
   "execution_count": null,
   "metadata": {},
   "outputs": [],
   "source": [
    "#슬롯머신\n",
    "import random\n",
    "\n",
    "def pull_down(): #슬롯머신 당기기\n",
    "    num = 0\n",
    "    cnt = 0\n",
    "    for i in range(0,3):\n",
    "        ran_num = random.randint(0,4)\n",
    "        if num == ran_num:\n",
    "            cnt+=1\n",
    "        slot_arr.append(fruit_arr[ran_num])\n",
    "        num = ran_num \n",
    "    return cnt\n",
    "\n",
    "fruit_arr = ['mango','banana','apple','cherry','strawberry'] #슬롯머신에 출력 될 그림\n",
    "slot_arr = []\n",
    "\n",
    "score = pull_down()\n",
    "print(slot_arr)\n",
    "if score == 0:\n",
    "    print(\"0점!\")\n",
    "elif score == 1:\n",
    "    print(\"1점!\")\n",
    "else:\n",
    "    print(\"2점!\")\n",
    "\n",
    "\n"
   ]
  },
  {
   "cell_type": "markdown",
   "metadata": {},
   "source": []
  },
  {
   "cell_type": "code",
   "execution_count": 2,
   "metadata": {},
   "outputs": [
    {
     "name": "stdout",
     "output_type": "stream",
     "text": [
      "49.857142857142854\n",
      "51\n",
      "931.3567346938771\n",
      "30.51813779859245\n"
     ]
    }
   ],
   "source": [
    "# 0 ~ 100 에 해당하는 난수를 100 ~ 200 개 사이로 생성한다.\n",
    "#   전체 평균, 중앙값, 분산과 표준편차를 구하시오.\n",
    "\n",
    " \n",
    "import random\n",
    "import math\n",
    "\n",
    "\n",
    "def num_make(): #0~100 난수 생성\n",
    "    num_range = random.randint(0,100)\n",
    "    return num_range\n",
    "\n",
    " \n",
    "\n",
    "def num_arr_make(): #100~200 개수 의 난수 생성\n",
    "    num_cnt = random.randint(100,200)\n",
    "    for i in range (1,num_cnt+1):\n",
    "        num.append(num_make())\n",
    "\n",
    " \n",
    "\n",
    "def average(num_f): #평균\n",
    "    result = sum(num_f)/len(num_f)\n",
    "    return result\n",
    "\n",
    " \n",
    "\n",
    "def median(num_f): #중간값\n",
    "    median_val = 0\n",
    "    num_f.sort()\n",
    "    if len(num_f)%2==1:\n",
    "        median_val = num_f[(len(num_f)//2)]\n",
    "    else:\n",
    "        median_val1 = num_f[(len(num_f)//2)]\n",
    "        median_val2 = num_f[(len(num_f)//2-1)]\n",
    "        median_val = (median_val1 + median_val2)/2\n",
    "    return median_val\n",
    "\n",
    "def bunsan(num_f): #분산\n",
    "    sum_bunsan = 0\n",
    "    for i in range (0,len(num_f)):\n",
    "       sum_bunsan += pow(num_f[i]-average(num),2)\n",
    "    return sum_bunsan/len(num_f)\n",
    "\n",
    "def st_dev(num): #표준편차\n",
    "    return math.sqrt(num)\n",
    "\n",
    "num = []\n",
    "num_arr_make()\n",
    "\n",
    "print(average(num))\n",
    "print(median(num))\n",
    "print(bunsan(num))\n",
    "a=bunsan(num)\n",
    "print(st_dev(a))\n"
   ]
  },
  {
   "cell_type": "code",
   "execution_count": 1,
   "metadata": {},
   "outputs": [
    {
     "name": "stdout",
     "output_type": "stream",
     "text": [
      "0.4345982085070782\n"
     ]
    }
   ],
   "source": [
    "#다음달 승진을 압두고 있는 경찰관이 있다.\n",
    "#관할구에 범죄가 발생하지 않아야 승진을 할 수 있다.\n",
    "#통계 조사 결과 해당구의 한 해 범죄 회수가 10 건이라고 한다.\n",
    "#다음달에 범죄가 발생하지 않을 확률을 구하고 이 자료에 입각하여 경찰관은 무엇을 준비해야할지를 논하고 구현하시오.\n",
    "\n",
    "import math\n",
    "\n",
    "user_lambda = 10/12\n",
    "poisson = ( math.exp(-10/12) * pow(user_lambda,0) ) / 1\n",
    "\n",
    "print(poisson) # 다음달에 범죄가 일어나지 않을 확률.\n"
   ]
  },
  {
   "cell_type": "code",
   "execution_count": 4,
   "metadata": {},
   "outputs": [
    {
     "name": "stdout",
     "output_type": "stream",
     "text": [
      "94\n",
      "94\n",
      "숫자를 입력하세요:33\n",
      "큰값을 입력하세요!\n",
      "숫자를 입력하세요:22\n",
      "큰값을 입력하세요!\n",
      "숫자를 입력하세요:22\n",
      "큰값을 입력하세요!\n",
      "숫자를 입력하세요:22\n",
      "큰값을 입력하세요!\n",
      "숫자를 입력하세요:1\n",
      "큰값을 입력하세요!\n",
      "숫자를 입력하세요:1\n",
      "큰값을 입력하세요!\n",
      "숫자를 입력하세요:1\n",
      "큰값을 입력하세요!\n",
      "숫자를 입력하세요:1\n",
      "큰값을 입력하세요!\n",
      "숫자를 입력하세요:1\n",
      "큰값을 입력하세요!\n",
      "숫자를 입력하세요:1\n",
      "큰값을 입력하세요!\n",
      "숫자를 입력하세요:1\n",
      "큰값을 입력하세요!\n",
      "숫자를 입력하세요:1\n",
      "큰값을 입력하세요!\n",
      "숫자를 입력하세요:1\n",
      "큰값을 입력하세요!\n",
      "숫자를 입력하세요:1\n",
      "큰값을 입력하세요!\n",
      "숫자를 입력하세요:1\n",
      "큰값을 입력하세요!\n",
      "숫자를 입력하세요:1\n",
      "큰값을 입력하세요!\n",
      "숫자를 입력하세요:1\n",
      "큰값을 입력하세요!\n",
      "숫자를 입력하세요:1\n",
      "큰값을 입력하세요!\n",
      "숫자를 입력하세요:1\n",
      "큰값을 입력하세요!\n",
      "숫자를 입력하세요:1\n",
      "당신은 패배자입니다!\n",
      "큰값을 입력하세요!\n"
     ]
    }
   ],
   "source": [
    "import random\n",
    "\n",
    "def num_make(): #0~100 난수 생성\n",
    "    num_make = random.randint(0,100)\n",
    "    print(num_make)\n",
    "    return num_make\n",
    "\n",
    "def input_num():\n",
    "    input_num = int(input('숫자를 입력하세요:'))\n",
    "    return input_num\n",
    "\n",
    "computer_num = num_make()\n",
    "\n",
    "print(computer_num)\n",
    "\n",
    "\n",
    "for i in range(0,20):\n",
    "    user_num = input_num()\n",
    "    if (i==19):\n",
    "        print('당신은 패배자입니다!')\n",
    "        break;\n",
    "    if (computer_num>user_num):\n",
    "        print('큰값을 입력하세요!')\n",
    "    elif (computer_num<user_num):\n",
    "        print('작은값을 입력하세요!')\n",
    "    else:\n",
    "        print('정답입니다!')\n",
    "        break;\n"
   ]
  },
  {
   "cell_type": "markdown",
   "metadata": {},
   "source": [
    "1# "
   ]
  },
  {
   "cell_type": "code",
   "execution_count": 6,
   "metadata": {},
   "outputs": [
    {
     "name": "stdout",
     "output_type": "stream",
     "text": [
      "[1, 3, 4, 7, 11, 18, 29, 47, 76, 123, 199, 322, 521, 843, 1364, 2207, 3571, 5778, 9349, 15127, 24476, 39603, 64079]\n",
      "64079\n"
     ]
    }
   ],
   "source": [
    "# 1, 3, 4, 7, 11, 18, 29, 47, 76, ... 형태로 숫자가 진행된다.\n",
    "# 23번째 숫자는 무엇일까 ?\n",
    "\n",
    "arr = [1,3]\n",
    "\n",
    "for i in range(2,23):\n",
    "    arr.append(arr[i-2]+arr[i-1])\n",
    "    \n",
    "print(arr)\n",
    "print(arr[22])\n"
   ]
  },
  {
   "cell_type": "code",
   "execution_count": 9,
   "metadata": {},
   "outputs": [
    {
     "name": "stdout",
     "output_type": "stream",
     "text": [
      "[1, 1, 2, 3, 5, 8, 13, 21, 34, 55, 89, 144, 233, 377, 610, 987, 1597, 2584, 4181, 6765, 10946, 17711, 28657, 46368, 75025, 121393, 196418, 317811, 514229, 832040, 1346269, 2178309, 3524578, 5702887, 9227465, 14930352, 24157817, 39088169, 63245986, 102334155, 165580141, 267914296, 433494437, 701408733, 1134903170, 1836311903, 2971215073, 4807526976, 7778742049, 12586269025, 20365011074, 32951280099, 53316291173, 86267571272, 139583862445, 225851433717]\n",
      "112925716858\n",
      "478361013020\n",
      "365435296162\n"
     ]
    }
   ],
   "source": [
    "# 1, 1, 2, 3, 5, 8, 13, 21, 34, 55, ... 형태로 숫자가 진행된다.\n",
    "# 1 ~ 57번째까지의 수들로 홀수들의 합을 하고 짝수들의 합을 구한다.\n",
    "# 홀수들의 합 - 짝수들의 합의 결과를 출력하시오.\n",
    "\n",
    "arr=[1,1]\n",
    "sum_even=0\n",
    "sum_odd=0\n",
    "\n",
    "for i in range(2,56):\n",
    "    arr.append(arr[i-2]+arr[i-1])\n",
    "    \n",
    "for j in range(0,56):\n",
    "    if arr[j]%2==0:\n",
    "        sum_even += arr[j] \n",
    "         \n",
    "for k in range(0,56):\n",
    "    if arr[k]%2==1:\n",
    "        sum_odd += arr[k] \n",
    "\n",
    "print(arr)\n",
    "print(sum_even)\n",
    "print(sum_odd)\n",
    "sub_val = sum_odd-sum_even\n",
    "print(sub_val)\n"
   ]
  },
  {
   "cell_type": "code",
   "execution_count": null,
   "metadata": {},
   "outputs": [],
   "source": []
  }
 ],
 "metadata": {
  "kernelspec": {
   "display_name": "Python 3",
   "language": "python",
   "name": "python3"
  },
  "language_info": {
   "codemirror_mode": {
    "name": "ipython",
    "version": 3
   },
   "file_extension": ".py",
   "mimetype": "text/x-python",
   "name": "python",
   "nbconvert_exporter": "python",
   "pygments_lexer": "ipython3",
   "version": "3.7.6"
  }
 },
 "nbformat": 4,
 "nbformat_minor": 4
}
