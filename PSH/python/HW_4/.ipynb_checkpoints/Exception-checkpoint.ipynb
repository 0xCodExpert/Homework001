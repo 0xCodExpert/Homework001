{
 "cells": [
  {
   "cell_type": "code",
   "execution_count": 5,
   "metadata": {},
   "outputs": [
    {
     "name": "stdout",
     "output_type": "stream",
     "text": [
      "Exception Occured!\n",
      "항상 finally는 실행된다\n",
      "모든 인수를 숫자로 설정하시오!\n",
      "항상 finally는 실행된다.\n",
      "Result: 2.5\n",
      "항상 finally는 실행된다.\n"
     ]
    }
   ],
   "source": [
    "\"\"\"\n",
    "try: 예외가 발생할 수 있는 구간을 처리\n",
    "except: 예외처리\n",
    "finally :무조건 실행할 구간\n",
    "\n",
    "아래 except 부분에 tap을 누르면 error 종류를 확인 가능\n",
    "\"\"\"\n",
    "\n",
    "def divide(a, b):\n",
    "    return a/ b\n",
    "\n",
    "try:\n",
    "    c = divide(5, 0)\n",
    "except ZeroDivisionError:      #ZeroDivisionError는 0으로 나누기의 경우 발생 \n",
    "    print('Exception Occured!')\n",
    "finally:\n",
    "    print('항상 finally는 실행된다')\n",
    "    \n",
    "try:\n",
    "    d = divide(5, 'string')\n",
    "except TypeError:                #TypeError는 Type이 맞지 않아 연산이 불가능한 경우 발생\n",
    "    print('모든 인수를 숫자로 설정하시오!')\n",
    "finally:\n",
    "    print('항상 finally는 실행된다.')\n",
    "    \n",
    "try: \n",
    "    e = divide(5, 2)\n",
    "except ZeroDivisionError:\n",
    "    print('Exception Occured!')\n",
    "except TypeError:\n",
    "    print('모든 인수를 숫자로 설정하시오')\n",
    "except:                             #except 만 쓰면 모든 error 상황을 말한다\n",
    "    print('ZeroDivisionError, TypeError외의 에러')\n",
    "else:\n",
    "    print('Result: {0}'.format(e))   #except에 걸리지 않는다면 else를 놓을 수 있음\n",
    "finally:\n",
    "    print('항상 finally는 실행된다.')"
   ]
  },
  {
   "cell_type": "code",
   "execution_count": 11,
   "metadata": {},
   "outputs": [
    {
     "name": "stdout",
     "output_type": "stream",
     "text": [
      "Error: unsupported operand type(s) for /: 'int' and 'str'\n",
      "there are Arithmetic Error\n",
      "Error: division by zero\n"
     ]
    }
   ],
   "source": [
    "def divide(a,b):\n",
    "    return a/b\n",
    "\n",
    "try:\n",
    "    c = divide(5, 'string')\n",
    "except TypeError as e:     #as로 단어 대채 가능\n",
    "    print('Error:', e.args[0])   #e.args[0]으로 에러 내용 출력 하도록 함\n",
    "\n",
    "try:\n",
    "    d =divide(5,0)\n",
    "except ArithmeticError as e:\n",
    "    print('there are Arithmetic Error')\n",
    "    print('Error:',e.args[0]) #e.args[0]에 해당하는 error 내용이 문자열로 출력됨"
   ]
  },
  {
   "cell_type": "code",
   "execution_count": 18,
   "metadata": {},
   "outputs": [
    {
     "name": "stdout",
     "output_type": "stream",
     "text": [
      "Laplace Transform\n",
      "Fourier Trnasform\n",
      "\n"
     ]
    }
   ],
   "source": [
    "FilePath = './test.txt'\n",
    "\n",
    "try:\n",
    "    f = open(FilePath, 'r') # r : 읽기모드 ,  w : 쓰기모드, a : 추가모드(파일마지막에 내용추가할 때)\n",
    "    try:\n",
    "        data = f.read() #f.read()는 파일의 내용 전체를 문자열로 돌려줌\n",
    "                          #f.read(12) 12개 문자까지 출력\n",
    "        print(data)\n",
    "    finally:\n",
    "        f.close() #예외의 발생과 관련없이 finally로 무조건 close()를 해줌\n",
    "except IOError:  #File I/O나 기타 I/O상의 에러를 다룸\n",
    "    print(\"Fail to open {0} file\".format(FilePath))"
   ]
  },
  {
   "cell_type": "code",
   "execution_count": 20,
   "metadata": {},
   "outputs": [
    {
     "name": "stdout",
     "output_type": "stream",
     "text": [
      "NameError Catched!\n",
      "Before Error Propagation\n"
     ]
    },
    {
     "ename": "NameError",
     "evalue": "",
     "output_type": "error",
     "traceback": [
      "\u001b[0;31m---------------------------------------------------------------------------\u001b[0m",
      "\u001b[0;31mNameError\u001b[0m                                 Traceback (most recent call last)",
      "\u001b[0;32m<ipython-input-20-f51dd3c0c3d2>\u001b[0m in \u001b[0;36m<module>\u001b[0;34m\u001b[0m\n\u001b[1;32m     14\u001b[0m         \u001b[0;32mraise\u001b[0m\u001b[0;34m\u001b[0m\u001b[0;34m\u001b[0m\u001b[0m\n\u001b[1;32m     15\u001b[0m \u001b[0;34m\u001b[0m\u001b[0m\n\u001b[0;32m---> 16\u001b[0;31m \u001b[0mPropagateError\u001b[0m\u001b[0;34m(\u001b[0m\u001b[0;34m)\u001b[0m\u001b[0;34m\u001b[0m\u001b[0;34m\u001b[0m\u001b[0m\n\u001b[0m",
      "\u001b[0;32m<ipython-input-20-f51dd3c0c3d2>\u001b[0m in \u001b[0;36mPropagateError\u001b[0;34m()\u001b[0m\n\u001b[1;32m      9\u001b[0m \u001b[0;32mdef\u001b[0m \u001b[0mPropagateError\u001b[0m\u001b[0;34m(\u001b[0m\u001b[0;34m)\u001b[0m\u001b[0;34m:\u001b[0m\u001b[0;34m\u001b[0m\u001b[0;34m\u001b[0m\u001b[0m\n\u001b[1;32m     10\u001b[0m     \u001b[0;32mtry\u001b[0m\u001b[0;34m:\u001b[0m\u001b[0;34m\u001b[0m\u001b[0;34m\u001b[0m\u001b[0m\n\u001b[0;32m---> 11\u001b[0;31m         \u001b[0mRaiseErrorFunc\u001b[0m\u001b[0;34m(\u001b[0m\u001b[0;34m)\u001b[0m\u001b[0;34m\u001b[0m\u001b[0;34m\u001b[0m\u001b[0m\n\u001b[0m\u001b[1;32m     12\u001b[0m     \u001b[0;32mexcept\u001b[0m\u001b[0;34m:\u001b[0m\u001b[0;34m\u001b[0m\u001b[0;34m\u001b[0m\u001b[0m\n\u001b[1;32m     13\u001b[0m         \u001b[0mprint\u001b[0m\u001b[0;34m(\u001b[0m\u001b[0;34m\"Before Error Propagation\"\u001b[0m\u001b[0;34m)\u001b[0m\u001b[0;34m\u001b[0m\u001b[0;34m\u001b[0m\u001b[0m\n",
      "\u001b[0;32m<ipython-input-20-f51dd3c0c3d2>\u001b[0m in \u001b[0;36mRaiseErrorFunc\u001b[0;34m()\u001b[0m\n\u001b[1;32m      1\u001b[0m \u001b[0;32mdef\u001b[0m \u001b[0mRaiseErrorFunc\u001b[0m\u001b[0;34m(\u001b[0m\u001b[0;34m)\u001b[0m\u001b[0;34m:\u001b[0m\u001b[0;34m\u001b[0m\u001b[0;34m\u001b[0m\u001b[0m\n\u001b[0;32m----> 2\u001b[0;31m     \u001b[0;32mraise\u001b[0m \u001b[0mNameError\u001b[0m\u001b[0;34m\u001b[0m\u001b[0;34m\u001b[0m\u001b[0m\n\u001b[0m\u001b[1;32m      3\u001b[0m \u001b[0;34m\u001b[0m\u001b[0m\n\u001b[1;32m      4\u001b[0m \u001b[0;32mtry\u001b[0m\u001b[0;34m:\u001b[0m\u001b[0;34m\u001b[0m\u001b[0;34m\u001b[0m\u001b[0m\n\u001b[1;32m      5\u001b[0m     \u001b[0mRaiseErrorFunc\u001b[0m\u001b[0;34m(\u001b[0m\u001b[0;34m)\u001b[0m\u001b[0;34m\u001b[0m\u001b[0;34m\u001b[0m\u001b[0m\n",
      "\u001b[0;31mNameError\u001b[0m: "
     ]
    }
   ],
   "source": [
    "\"\"\"\n",
    "raise\n",
    "사용자가 직접 에러를 발생시키는 기능\n",
    "\n",
    "EX)\n",
    "올바른 값을 넣지 않으면 에러를 발생시키고 적당한 문구를 표시한다.\n",
    "def rsp(mine, yours):\n",
    "    allowed = ['가위','바위', '보']\n",
    "    if mine not in allowed:\n",
    "        raise ValueError\n",
    "    if yours not in allowed:\n",
    "        raise ValueError\n",
    "\n",
    "try:\n",
    "    rsp('가위', '바')\n",
    "except ValueError:\n",
    "    print('잘못된 값을 넣었습니다!')\n",
    "\n",
    "\"\"\"\n",
    "\n",
    "def RaiseErrorFunc():\n",
    "    raise NameError\n",
    "    \n",
    "try:\n",
    "    RaiseErrorFunc()\n",
    "except:\n",
    "    print(\"NameError Catched!\")\n",
    "    \n",
    "def PropagateError():\n",
    "    try:\n",
    "        RaiseErrorFunc()\n",
    "    except:\n",
    "        print(\"Before Error Propagation\")\n",
    "        raise\n",
    "\n",
    "PropagateError()"
   ]
  },
  {
   "cell_type": "code",
   "execution_count": 22,
   "metadata": {},
   "outputs": [
    {
     "name": "stdout",
     "output_type": "stream",
     "text": [
      "3의 배수를 입력하세요: 5\n",
      "예외가 발생했습니다. 3의 배수가 아닙니다.\n"
     ]
    }
   ],
   "source": [
    "def three_multiple():\n",
    "    x = int(input('3의 배수를 입력하세요: '))\n",
    "    if x % 3 != 0:                                 # x가 3의 배수가 아니면\n",
    "        raise Exception('3의 배수가 아닙니다.')    # 예외를 발생시킴\n",
    "    print(x)                                       # 현재 함수 안에는 except가 없으므로\n",
    "                                                   # 예외를 상위 코드 블록으로 넘김\n",
    " \n",
    "try:\n",
    "    three_multiple()\n",
    "except Exception as e:                             # 하위 코드 블록에서 예외가 발생해도 실행됨\n",
    "    print('예외가 발생했습니다.', e)"
   ]
  },
  {
   "cell_type": "code",
   "execution_count": 26,
   "metadata": {},
   "outputs": [
    {
     "name": "stdout",
     "output_type": "stream",
     "text": [
      "Error - Second argument of PositiveDivide is  -3\n"
     ]
    }
   ],
   "source": [
    "\"\"\"\n",
    "__init__ 메서드\n",
    "\n",
    "메서드 : 클래스를 만들면서 그 안에 만들어 넣은 함수\n",
    "메서드 사용하려면 객체.메서드()와 같은 형식으로 호출\n",
    "\n",
    "\n",
    "\"\"\"\n",
    "\n",
    "class NegativeDivisionError(Exception):\n",
    "    def __init__(self, value):\n",
    "        self.value = value\n",
    "        \n",
    "def PositiveDivide(a, b):\n",
    "    if(b < 0):\n",
    "        raise NegativeDivisionError(b)\n",
    "    return a/b\n",
    "\n",
    "try:\n",
    "    ret = PositiveDivide(10,-3)\n",
    "    #ret = PositiveDivide(10,3)\n",
    "    #ret = PositiveDivide(10,0)\n",
    "    print('10 / 3 = {0}'.format(ret))\n",
    "except NegativeDivisionError as e:\n",
    "    print('Error - Second argument of PositiveDivide is ', e.value)\n",
    "except ZeroDivisionError as e:\n",
    "    print('Error - ', e.args[0])\n",
    "except:\n",
    "    print(e.args)"
   ]
  },
  {
   "cell_type": "code",
   "execution_count": 32,
   "metadata": {},
   "outputs": [
    {
     "ename": "AssertionError",
     "evalue": "Input value have to be interger",
     "output_type": "error",
     "traceback": [
      "\u001b[0;31m---------------------------------------------------------------------------\u001b[0m",
      "\u001b[0;31mAssertionError\u001b[0m                            Traceback (most recent call last)",
      "\u001b[0;32m<ipython-input-32-12e8a1e9aa83>\u001b[0m in \u001b[0;36m<module>\u001b[0;34m\u001b[0m\n\u001b[1;32m     15\u001b[0m     \u001b[0;32mreturn\u001b[0m \u001b[0mx\u001b[0m\u001b[0;34m*\u001b[0m\u001b[0;36m10\u001b[0m\u001b[0;34m\u001b[0m\u001b[0;34m\u001b[0m\u001b[0m\n\u001b[1;32m     16\u001b[0m \u001b[0;34m\u001b[0m\u001b[0m\n\u001b[0;32m---> 17\u001b[0;31m \u001b[0mret\u001b[0m \u001b[0;34m=\u001b[0m \u001b[0mtestAssert\u001b[0m\u001b[0;34m(\u001b[0m\u001b[0;34m'a'\u001b[0m\u001b[0;34m)\u001b[0m\u001b[0;34m\u001b[0m\u001b[0;34m\u001b[0m\u001b[0m\n\u001b[0m\u001b[1;32m     18\u001b[0m \u001b[0mprint\u001b[0m\u001b[0;34m(\u001b[0m\u001b[0mret\u001b[0m\u001b[0;34m)\u001b[0m\u001b[0;34m\u001b[0m\u001b[0;34m\u001b[0m\u001b[0m\n",
      "\u001b[0;32m<ipython-input-32-12e8a1e9aa83>\u001b[0m in \u001b[0;36mtestAssert\u001b[0;34m(x)\u001b[0m\n\u001b[1;32m     12\u001b[0m \u001b[0;34m\u001b[0m\u001b[0m\n\u001b[1;32m     13\u001b[0m \u001b[0;32mdef\u001b[0m \u001b[0mtestAssert\u001b[0m\u001b[0;34m(\u001b[0m\u001b[0mx\u001b[0m\u001b[0;34m)\u001b[0m\u001b[0;34m:\u001b[0m\u001b[0;34m\u001b[0m\u001b[0;34m\u001b[0m\u001b[0m\n\u001b[0;32m---> 14\u001b[0;31m     \u001b[0;32massert\u001b[0m \u001b[0mtype\u001b[0m\u001b[0;34m(\u001b[0m\u001b[0mx\u001b[0m\u001b[0;34m)\u001b[0m \u001b[0;34m==\u001b[0m \u001b[0mint\u001b[0m\u001b[0;34m,\u001b[0m \u001b[0;34m\"Input value have to be interger\"\u001b[0m\u001b[0;34m\u001b[0m\u001b[0;34m\u001b[0m\u001b[0m\n\u001b[0m\u001b[1;32m     15\u001b[0m     \u001b[0;32mreturn\u001b[0m \u001b[0mx\u001b[0m\u001b[0;34m*\u001b[0m\u001b[0;36m10\u001b[0m\u001b[0;34m\u001b[0m\u001b[0;34m\u001b[0m\u001b[0m\n\u001b[1;32m     16\u001b[0m \u001b[0;34m\u001b[0m\u001b[0m\n",
      "\u001b[0;31mAssertionError\u001b[0m: Input value have to be interger"
     ]
    }
   ],
   "source": [
    "\"\"\"\n",
    "assert(가정 설정문)\n",
    "assert 조건, '메시지'\n",
    "\n",
    "assert는 조건이 True가 아니면 AssertError를 발생시키고 '메시지'출력함\n",
    "\n",
    "assert필요 이유?\n",
    ">>> 어떤 함수는 성능을 높이기 위해 반드시 정숨나을 입력받아 처리하도록 만들 수 있음. 이런 함수를 만들기 위해서는 반드시\n",
    "    함수에 정수만 들어오는지 확인할 필요가 있음. 이를 위해 if문을 사용할 수도 있고 '예외처리' 를 사용할 수도 있지만\n",
    "    '가정 설정문'을 사용하는 방법도 있음\n",
    "\"\"\"\n",
    "\n",
    "def testAssert(x):\n",
    "    assert type(x) == int, \"Input value have to be interger\"\n",
    "    return x*10\n",
    "    \n",
    "ret = testAssert('a')\n",
    "print(ret)"
   ]
  },
  {
   "cell_type": "code",
   "execution_count": null,
   "metadata": {},
   "outputs": [],
   "source": []
  }
 ],
 "metadata": {
  "kernelspec": {
   "display_name": "Python 3",
   "language": "python",
   "name": "python3"
  },
  "language_info": {
   "codemirror_mode": {
    "name": "ipython",
    "version": 3
   },
   "file_extension": ".py",
   "mimetype": "text/x-python",
   "name": "python",
   "nbconvert_exporter": "python",
   "pygments_lexer": "ipython3",
   "version": "3.7.6"
  }
 },
 "nbformat": 4,
 "nbformat_minor": 4
}
