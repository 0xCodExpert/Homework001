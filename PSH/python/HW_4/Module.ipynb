{
 "cells": [
  {
   "cell_type": "code",
   "execution_count": 1,
   "metadata": {},
   "outputs": [
    {
     "name": "stdout",
     "output_type": "stream",
     "text": [
      "1024.0\n",
      "4.605170185988092\n",
      "3.141592653589793\n",
      "['__doc__', '__file__', '__loader__', '__name__', '__package__', '__spec__', 'acos', 'acosh', 'asin', 'asinh', 'atan', 'atan2', 'atanh', 'ceil', 'copysign', 'cos', 'cosh', 'degrees', 'e', 'erf', 'erfc', 'exp', 'expm1', 'fabs', 'factorial', 'floor', 'fmod', 'frexp', 'fsum', 'gamma', 'gcd', 'hypot', 'inf', 'isclose', 'isfinite', 'isinf', 'isnan', 'ldexp', 'lgamma', 'log', 'log10', 'log1p', 'log2', 'modf', 'nan', 'pi', 'pow', 'radians', 'remainder', 'sin', 'sinh', 'sqrt', 'tan', 'tanh', 'tau', 'trunc']\n"
     ]
    }
   ],
   "source": [
    "\"\"\"\n",
    "파이썬으로 수학 연산 효율적으로 사용 가능\n",
    "\"\"\"\n",
    "import math\n",
    "\n",
    "print(math.pow(2,10))\n",
    "print(math.log(100)) #자연로그\n",
    "print(math.pi)\n",
    "\n",
    "print(dir(math)) #math  모듈에 포함되는 모든 정볼 보여줌(tan, sqrt, pow,...)"
   ]
  },
  {
   "cell_type": "code",
   "execution_count": 27,
   "metadata": {},
   "outputs": [
    {
     "name": "stdout",
     "output_type": "stream",
     "text": [
      "['WRAPPER_ASSIGNMENTS', 'WRAPPER_UPDATES', '__builtins__', '__cached__', '__doc__', '__file__', '__intersectSC', '__loader__', '__name__', '__package__', '__spec__', 'cmp_to_key', 'intersect', 'lru_cache', 'partial', 'partialmethod', 'reduce', 'singledispatch', 'total_ordering', 'update_wrapper', 'wraps']\n"
     ]
    },
    {
     "ename": "AttributeError",
     "evalue": "module 'ex35_mod' has no attribute 'union'",
     "output_type": "error",
     "traceback": [
      "\u001b[0;31m---------------------------------------------------------------------------\u001b[0m",
      "\u001b[0;31mAttributeError\u001b[0m                            Traceback (most recent call last)",
      "\u001b[0;32m<ipython-input-27-ee925872d80f>\u001b[0m in \u001b[0;36m<module>\u001b[0;34m\u001b[0m\n\u001b[1;32m      6\u001b[0m \u001b[0msetB\u001b[0m \u001b[0;34m=\u001b[0m \u001b[0;34m[\u001b[0m\u001b[0;36m2\u001b[0m\u001b[0;34m,\u001b[0m\u001b[0;36m3\u001b[0m\u001b[0;34m,\u001b[0m\u001b[0;36m4\u001b[0m\u001b[0;34m,\u001b[0m\u001b[0;36m9\u001b[0m\u001b[0;34m]\u001b[0m\u001b[0;34m\u001b[0m\u001b[0;34m\u001b[0m\u001b[0m\n\u001b[1;32m      7\u001b[0m \u001b[0;34m\u001b[0m\u001b[0m\n\u001b[0;32m----> 8\u001b[0;31m \u001b[0mprint\u001b[0m\u001b[0;34m(\u001b[0m\u001b[0mex35_mod\u001b[0m\u001b[0;34m.\u001b[0m\u001b[0munion\u001b[0m\u001b[0;34m(\u001b[0m\u001b[0msetA\u001b[0m\u001b[0;34m,\u001b[0m \u001b[0msetB\u001b[0m\u001b[0;34m)\u001b[0m\u001b[0;34m)\u001b[0m\u001b[0;34m\u001b[0m\u001b[0;34m\u001b[0m\u001b[0m\n\u001b[0m\u001b[1;32m      9\u001b[0m \u001b[0mprint\u001b[0m\u001b[0;34m(\u001b[0m\u001b[0mex35_mod\u001b[0m\u001b[0;34m.\u001b[0m\u001b[0mintersect\u001b[0m\u001b[0;34m(\u001b[0m\u001b[0msetA\u001b[0m\u001b[0;34m,\u001b[0m \u001b[0msetB\u001b[0m\u001b[0;34m,\u001b[0m \u001b[0;34m[\u001b[0m\u001b[0;36m1\u001b[0m\u001b[0;34m,\u001b[0m\u001b[0;36m2\u001b[0m\u001b[0;34m,\u001b[0m\u001b[0;36m3\u001b[0m\u001b[0;34m]\u001b[0m\u001b[0;34m)\u001b[0m\u001b[0;34m)\u001b[0m\u001b[0;34m\u001b[0m\u001b[0;34m\u001b[0m\u001b[0m\n\u001b[1;32m     10\u001b[0m \u001b[0;34m\u001b[0m\u001b[0m\n",
      "\u001b[0;31mAttributeError\u001b[0m: module 'ex35_mod' has no attribute 'union'"
     ]
    }
   ],
   "source": [
    "import ex35_mod\n",
    "\n",
    "print(dir(ex35_mod))\n",
    "\n",
    "setA = [1,3,7,10]\n",
    "setB = [2,3,4,9]\n",
    "\n",
    "print(ex35_mod.union(setA, setB))\n",
    "print(ex35_mod.intersect(setA, setB, [1,2,3]))\n",
    "\n",
    "### export PYTHONPATH=~~~~/ex35_mod to user everywhere\n",
    "\n",
    "import sys\n",
    "\n",
    "print(sys.path)"
   ]
  },
  {
   "cell_type": "code",
   "execution_count": 21,
   "metadata": {},
   "outputs": [],
   "source": [
    "\"\"\"\n",
    "Q1. 위의 setA, setB, [1,2,3]이 어떻게 __intersectSC에 listX, listY로 들어가고 있는가?\n",
    "Q2. 위의 error \" module 'ex35_mod' has no attribute 'union' \"에서 union이 안되는 이유?\n",
    "\n",
    "\"\"\"\n",
    "\n",
    "\"\"\"\n",
    "내가 직접 만든 모듈\n",
    "\"\"\"\n",
    "from functools import * # *(asterisk)를 붙이면 functools 안의 모든 함수를 불러 사용하겠다는 뜻\n",
    "\n",
    "\"\"\"\n",
    "reduce(집계함수, 순회가능한 데이터, [initializer = None])      #functools 모듈내의 함수\n",
    "첫번째 파라미터 : 함수 or 람다, 2개의 인자를 받아야 함(첫번째 : 누적자, 두번째 : 현재값)\n",
    "\t\t\t\t  -누적자 : 함수 실행의 시작부터 끝까지 계속해서 재사용되는 값\n",
    "\t\t\t\t  -현재값 : 루프 돌면서 계속해서 바뀌는 값\n",
    "두번째 파라미터 : 계산하고자 하는 list\n",
    "세번째 파라미터 : 생략가능, \n",
    "\"\"\"\n",
    "def intersect(*ar):\n",
    "\treturn reduce(__intersectSC, ar)\n",
    "\n",
    "def __intersectSC(listX, listY):\n",
    "\tsetList = []\n",
    "\tfor x in listX:\n",
    "\t\tif x in listY:\n",
    "\t\t\tsetList.append(x)\n",
    "\treturn setList\n",
    "\n",
    "def difference(*ar):\n",
    "\tsetList = []\n",
    "\tintersectSet = intersect(*ar)\n",
    "\tunionSet = union(*ar)\n",
    "\tfor x in unionSet:\n",
    "\t\tif not x in intersectSet:\n",
    "\t\t\tsetList.append(x)\n",
    "\treturn setList\n",
    "\n",
    "def union(*ar):\n",
    "\tsetList = []\n",
    "\tfor item in ar:\n",
    "\t\tfor x in item:\n",
    "\t\t\tif not x in setList:\n",
    "\t\t\t\tsetList.append(x)\n",
    "\treturn setList\n"
   ]
  },
  {
   "cell_type": "code",
   "execution_count": 29,
   "metadata": {
    "scrolled": true
   },
   "outputs": [
    {
     "name": "stdout",
     "output_type": "stream",
     "text": [
      "import math\n",
      "['__doc__', '__file__', '__loader__', '__name__', '__package__', '__spec__', 'acos', 'acosh', 'asin', 'asinh', 'atan', 'atan2', 'atanh', 'ceil', 'copysign', 'cos', 'cosh', 'degrees', 'e', 'erf', 'erfc', 'exp', 'expm1', 'fabs', 'factorial', 'floor', 'fmod', 'frexp', 'fsum', 'gamma', 'gcd', 'hypot', 'inf', 'isclose', 'isfinite', 'isinf', 'isnan', 'ldexp', 'lgamma', 'log', 'log10', 'log1p', 'log2', 'modf', 'nan', 'pi', 'pow', 'radians', 'remainder', 'sin', 'sinh', 'sqrt', 'tan', 'tanh', 'tau', 'trunc']\n"
     ]
    },
    {
     "ename": "ImportError",
     "evalue": "cannot import name 'union' from 'ex35_mod' (/home/gone/Proj/Python/HW_4/ex35_mod.py)",
     "output_type": "error",
     "traceback": [
      "\u001b[0;31m---------------------------------------------------------------------------\u001b[0m",
      "\u001b[0;31mImportError\u001b[0m                               Traceback (most recent call last)",
      "\u001b[0;32m<ipython-input-29-2db9842a136b>\u001b[0m in \u001b[0;36m<module>\u001b[0;34m\u001b[0m\n\u001b[1;32m      6\u001b[0m \u001b[0mloadMathMod\u001b[0m\u001b[0;34m(\u001b[0m\u001b[0;34m)\u001b[0m\u001b[0;34m\u001b[0m\u001b[0;34m\u001b[0m\u001b[0m\n\u001b[1;32m      7\u001b[0m \u001b[0;34m\u001b[0m\u001b[0m\n\u001b[0;32m----> 8\u001b[0;31m \u001b[0;32mfrom\u001b[0m \u001b[0mex35_mod\u001b[0m \u001b[0;32mimport\u001b[0m \u001b[0munion\u001b[0m\u001b[0;34m\u001b[0m\u001b[0;34m\u001b[0m\u001b[0m\n\u001b[0m\u001b[1;32m      9\u001b[0m \u001b[0;34m\u001b[0m\u001b[0m\n\u001b[1;32m     10\u001b[0m \u001b[0mprint\u001b[0m\u001b[0;34m(\u001b[0m\u001b[0munion\u001b[0m\u001b[0;34m(\u001b[0m\u001b[0;34m[\u001b[0m\u001b[0;36m1\u001b[0m\u001b[0;34m,\u001b[0m\u001b[0;36m2\u001b[0m\u001b[0;34m,\u001b[0m\u001b[0;36m3\u001b[0m\u001b[0;34m]\u001b[0m\u001b[0;34m,\u001b[0m\u001b[0;34m[\u001b[0m\u001b[0;36m3\u001b[0m\u001b[0;34m]\u001b[0m\u001b[0;34m,\u001b[0m\u001b[0;34m[\u001b[0m\u001b[0;36m3\u001b[0m\u001b[0;34m,\u001b[0m\u001b[0;36m4\u001b[0m\u001b[0;34m]\u001b[0m\u001b[0;34m)\u001b[0m\u001b[0;34m)\u001b[0m\u001b[0;34m\u001b[0m\u001b[0;34m\u001b[0m\u001b[0m\n",
      "\u001b[0;31mImportError\u001b[0m: cannot import name 'union' from 'ex35_mod' (/home/gone/Proj/Python/HW_4/ex35_mod.py)"
     ]
    }
   ],
   "source": [
    "\"\"\"\n",
    "Q1. Union이 여전히 import 안되는 이유가 무엇일까?\n",
    "\n",
    "\"\"\"\n",
    "\n",
    "def loadMathMod():\n",
    "    print(\"import math\")\n",
    "    import math #함수 안에서 모듈import 가능 \n",
    "    print(dir(math))\n",
    "\n",
    "loadMathMod()\n",
    "\n",
    "from ex35_mod import union\n",
    "\n",
    "print(union([1,2,3],[3],[3,4]))"
   ]
  }
 ],
 "metadata": {
  "kernelspec": {
   "display_name": "Python 3",
   "language": "python",
   "name": "python3"
  },
  "language_info": {
   "codemirror_mode": {
    "name": "ipython",
    "version": 3
   },
   "file_extension": ".py",
   "mimetype": "text/x-python",
   "name": "python",
   "nbconvert_exporter": "python",
   "pygments_lexer": "ipython3",
   "version": "3.7.6"
  }
 },
 "nbformat": 4,
 "nbformat_minor": 4
}
