{
 "cells": [
  {
   "cell_type": "code",
   "execution_count": 25,
   "metadata": {},
   "outputs": [
    {
     "name": "stdout",
     "output_type": "stream",
     "text": [
      "400.0020000067025\n"
     ]
    }
   ],
   "source": [
    "# 0. y = 1/3 * x^3 + 4 미분 계산\n",
    "# 1. 변수선언\n",
    "# 2. 미소범위 정하기\n",
    "# 3. 함수정의(F(x), Slope(x))\n",
    "# 4. 결과출력\n",
    "\n",
    "dx = 0.0001\n",
    "a = 20\n",
    "\n",
    "def F(x):\n",
    "    return ((x**3)/3.0) + 4\n",
    "\n",
    "def Slope(a,dx):\n",
    "    return (F(a+dx) - F(a)) / ((a+dx) - a)\n",
    "\n",
    "print(Slope(a, dx))"
   ]
  },
  {
   "cell_type": "code",
   "execution_count": 1,
   "metadata": {},
   "outputs": [
    {
     "name": "stdout",
     "output_type": "stream",
     "text": [
      "8.99955000500408\n"
     ]
    }
   ],
   "source": [
    "# 0. y = x*2 정적분 계산\n",
    "# 1. 변수 선언\n",
    "# 2. 미소범위 dx 정하기\n",
    "# 3. 면적의 의미 파악 후 함수 생성\n",
    "# 4. 결과 출력\n",
    "\n",
    "\n",
    "import math\n",
    "\n",
    "dx = 0.0001\n",
    "start = 0  \n",
    "end = 3\n",
    "\n",
    "def F(x):\n",
    "    return (x**2)\n",
    "\n",
    "def Integral(a, b, dx):\n",
    "    curX = 0\n",
    "    area = 0\n",
    "    i = 0\n",
    "    loop_cnt = round((b - a) / dx)\n",
    "\n",
    "    for i in range(0,loop_cnt):\n",
    "        area += (F(curX) * dx)\n",
    "        curX += dx\n",
    "    \n",
    "    return area\n",
    "\n",
    "print(Integral(start, end, dx))"
   ]
  },
  {
   "cell_type": "code",
   "execution_count": null,
   "metadata": {},
   "outputs": [],
   "source": []
  },
  {
   "cell_type": "code",
   "execution_count": null,
   "metadata": {},
   "outputs": [],
   "source": []
  }
 ],
 "metadata": {
  "kernelspec": {
   "display_name": "Python 3",
   "language": "python",
   "name": "python3"
  },
  "language_info": {
   "codemirror_mode": {
    "name": "ipython",
    "version": 3
   },
   "file_extension": ".py",
   "mimetype": "text/x-python",
   "name": "python",
   "nbconvert_exporter": "python",
   "pygments_lexer": "ipython3",
   "version": "3.7.6"
  }
 },
 "nbformat": 4,
 "nbformat_minor": 4
}
